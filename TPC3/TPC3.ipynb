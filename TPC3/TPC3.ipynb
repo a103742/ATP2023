{
 "cells": [
  {
   "cell_type": "code",
   "execution_count": 2,
   "metadata": {},
   "outputs": [
    {
     "name": "stdout",
     "output_type": "stream",
     "text": [
      "less\n",
      "less\n",
      "less\n",
      "more\n",
      "less\n",
      "less\n",
      "Well done! You have guessed right, my number was 12 !\n"
     ]
    }
   ],
   "source": [
    "import random\n",
    "\n",
    "n = random.randrange (0, 101)\n",
    "\n",
    "m = int(input (\"Introduza um numero\"))\n",
    "\n",
    "while m != n:\n",
    "    if m < n:\n",
    "        print (\"more\")\n",
    "        m = int (input (\"Introduza um numero\"))\n",
    "    elif m > n:\n",
    "        print (\"less\")\n",
    "        m = int (input (\"Introduza um numero\"))\n",
    "print (\"Well done! You have guessed right, my number was\",n,\"!\")"
   ]
  },
  {
   "cell_type": "code",
   "execution_count": 3,
   "metadata": {},
   "outputs": [
    {
     "name": "stdout",
     "output_type": "stream",
     "text": [
      "78\n",
      "13\n",
      "73\n",
      "28\n",
      "30\n",
      "68\n",
      "42\n",
      "38\n",
      "41\n",
      "39\n",
      "40\n",
      "I found out your number was 40 with 11 tries!\n"
     ]
    }
   ],
   "source": [
    "import random\n",
    "\n",
    "min = 0\n",
    "max = 101\n",
    "\n",
    "n = random.randrange (min, max)\n",
    "print (n)\n",
    "\n",
    "m = input (\"Introduza um numero\")\n",
    "\n",
    "maior = \"1\"\n",
    "menor = \"2\"\n",
    "igual = \"3\"\n",
    "\n",
    "NumeroTentativas = 1\n",
    "\n",
    "while m != \"3\":\n",
    "    if m == \"1\":\n",
    "        NumeroTentativas = NumeroTentativas + 1\n",
    "        min = n + 1\n",
    "        n = random.randrange (min, max)\n",
    "        print (n)\n",
    "        m = input(\"Introduza um numero\")\n",
    "    elif m == \"2\":\n",
    "        NumeroTentativas = NumeroTentativas + 1\n",
    "        max = n\n",
    "        n = random.randrange (min, max)\n",
    "        print (n)\n",
    "        m = input (\"Introduza um numero\")\n",
    "print (\"I found out your number was\",n,\"with\",NumeroTentativas,\"tries!\")"
   ]
  }
 ],
 "metadata": {
  "kernelspec": {
   "display_name": "Python 3",
   "language": "python",
   "name": "python3"
  },
  "language_info": {
   "codemirror_mode": {
    "name": "ipython",
    "version": 3
   },
   "file_extension": ".py",
   "mimetype": "text/x-python",
   "name": "python",
   "nbconvert_exporter": "python",
   "pygments_lexer": "ipython3",
   "version": "3.11.5"
  },
  "orig_nbformat": 4
 },
 "nbformat": 4,
 "nbformat_minor": 2
}
